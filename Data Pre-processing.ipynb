{
 "cells": [
  {
   "cell_type": "code",
   "execution_count": 6,
   "metadata": {},
   "outputs": [],
   "source": [
    "import warnings\n",
    "warnings.simplefilter('ignore')\n",
    "\n",
    "import numpy as np\n",
    "import matplotlib.pyplot as plt\n",
    "%matplotlib inline\n",
    "\n",
    "import pandas as pd\n",
    "\n",
    "from PIL import Image"
   ]
  },
  {
   "cell_type": "code",
   "execution_count": 7,
   "metadata": {},
   "outputs": [],
   "source": [
    "# Read galaxy data for training\n",
    "solutions = pd.read_csv('data/training_solutions_rev1.csv', sep = ',')"
   ]
  },
  {
   "cell_type": "code",
   "execution_count": 8,
   "metadata": {},
   "outputs": [],
   "source": [
    "# Get rid of artifacts/stars\n",
    "solutions = solutions.loc[solutions[\"Class1.3\"] < 0.5]\n",
    "# at this point I also deleted all the images which\n",
    "# appear t"
   ]
  },
  {
   "cell_type": "code",
   "execution_count": 9,
   "metadata": {},
   "outputs": [],
   "source": [
    "# We only look at Smooth/Disc attribute\n",
    "solutions = solutions.loc[:, [\"GalaxyID\", \"Class1.1\", \"Class1.2\"]]\n",
    "\n",
    "# Rename smoothness attribute to 'Smooth'\n",
    "solutions.columns = [\"GalaxyID\", \"Smooth\", \"Class1.2\"]"
   ]
  },
  {
   "cell_type": "code",
   "execution_count": 10,
   "metadata": {},
   "outputs": [],
   "source": [
    "# If more than 50% of people think it's smooth\n",
    "# we'll just say it's smooth\n",
    "solutions.loc[solutions.Smooth >  0.5, \"Smooth\"] = 1\n",
    "\n",
    "# Disc otherwise\n",
    "solutions.loc[solutions.Smooth <= 0.5, \"Smooth\"] = 0\n",
    "\n",
    "# Get rid of the 3rd column\n",
    "solutions = solutions.loc[:, [\"GalaxyID\", \"Smooth\"]]"
   ]
  },
  {
   "cell_type": "code",
   "execution_count": 11,
   "metadata": {},
   "outputs": [],
   "source": [
    "# Convert types\n",
    "solutions = solutions.astype({\"GalaxyID\" : int, \"Smooth\" : int})"
   ]
  },
  {
   "cell_type": "code",
   "execution_count": 12,
   "metadata": {},
   "outputs": [],
   "source": [
    "# Save as csv file\n",
    "#solutions.to_csv(\"data/solutions.csv\", sep = \",\", encoding = \"utf-8\")"
   ]
  },
  {
   "cell_type": "code",
   "execution_count": 13,
   "metadata": {},
   "outputs": [],
   "source": [
    "def cropSave(imgID):\n",
    "    img = Image.open(\"data/images_training_rev1/\" + str(imgID) + \".jpg\")\n",
    "    img = img.resize(box=(112, 112, 312, 312), size=(128,128))\n",
    "    img.save(\"data/images_modified/\" + str(imgID) + \".jpg\", \"jpeg\")\n",
    "\n",
    "# for imgID in solutions[\"GalaxyID\"]:\n",
    "#     cropSave(imgID)"
   ]
  },
  {
   "cell_type": "code",
   "execution_count": null,
   "metadata": {},
   "outputs": [],
   "source": []
  }
 ],
 "metadata": {
  "kernelspec": {
   "display_name": "Python 3",
   "language": "python",
   "name": "python3"
  },
  "language_info": {
   "codemirror_mode": {
    "name": "ipython",
    "version": 3
   },
   "file_extension": ".py",
   "mimetype": "text/x-python",
   "name": "python",
   "nbconvert_exporter": "python",
   "pygments_lexer": "ipython3",
   "version": "3.6.6"
  }
 },
 "nbformat": 4,
 "nbformat_minor": 2
}
