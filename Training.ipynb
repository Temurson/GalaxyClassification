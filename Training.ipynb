{
 "cells": [
  {
   "cell_type": "code",
   "execution_count": 1,
   "metadata": {},
   "outputs": [],
   "source": [
    "import numpy as np\n",
    "import pandas as pd\n",
    "from PIL import Image\n",
    "import xgboost as xgb\n",
    "from sklearn.metrics import accuracy_score\n",
    "from joblib import dump"
   ]
  },
  {
   "cell_type": "code",
   "execution_count": 2,
   "metadata": {},
   "outputs": [
    {
     "data": {
      "text/plain": [
       "(12000, 3)"
      ]
     },
     "execution_count": 2,
     "metadata": {},
     "output_type": "execute_result"
    }
   ],
   "source": [
    "# read solutions data\n",
    "solutions = pd.read_csv(\"data/solutions.csv\")\n",
    "# only take 12000 records due to memory restrictions\n",
    "solutions = solutions.truncate(after = 11999, axis = \"rows\")\n",
    "solutions.shape"
   ]
  },
  {
   "cell_type": "code",
   "execution_count": 3,
   "metadata": {},
   "outputs": [
    {
     "name": "stdout",
     "output_type": "stream",
     "text": [
      "X_train: (9600, 49152)\n",
      "X_test: (2400, 49152)\n",
      "y_train: (9600, 3)\n",
      "y_test: (2400, 3)\n"
     ]
    }
   ],
   "source": [
    "# image opener and flattener\n",
    "def getImage(imgID):\n",
    "    return np.array(Image.open(\"data/images_modified/\" + str(imgID) + \".jpg\")).flatten()\n",
    "\n",
    "# train / test = 80% / 20%\n",
    "X_train = np.array([np.array(getImage(imgID)) for imgID in solutions.truncate(after=9599, axis='rows')[\"GalaxyID\"]]) / 255\n",
    "X_test  = np.array([np.array(getImage(imgID)) for imgID in solutions.truncate(before=9600, after=11999, axis='rows')[\"GalaxyID\"]]) / 255\n",
    "y_train = solutions.truncate(after=9599, axis='rows')\n",
    "y_test  = solutions.truncate(before=9600, after=11999, axis='rows')\n",
    "\n",
    "# free memory\n",
    "del solutions\n",
    "\n",
    "print('X_train:', X_train.shape)\n",
    "print('X_test:', X_test.shape)\n",
    "print('y_train:', y_train.shape)\n",
    "print('y_test:', y_test.shape)"
   ]
  },
  {
   "cell_type": "code",
   "execution_count": 4,
   "metadata": {},
   "outputs": [
    {
     "name": "stdout",
     "output_type": "stream",
     "text": [
      "X_train: (9600, 49152)\n",
      "X_test: (2400, 49152)\n",
      "y_train: (9600, 1)\n",
      "y_test: (2400, 1)\n"
     ]
    }
   ],
   "source": [
    "y_train = y_train.loc[:, [\"Smooth\"]]\n",
    "\n",
    "y_test = y_test.loc[:, [\"Smooth\"]]\n",
    "\n",
    "print('X_train:', X_train.shape)\n",
    "print('X_test:', X_test.shape)\n",
    "print('y_train:', y_train.shape)\n",
    "print('y_test:', y_test.shape)"
   ]
  },
  {
   "cell_type": "code",
   "execution_count": null,
   "metadata": {},
   "outputs": [],
   "source": [
    "# create the gradient boosting model using xgboost\n",
    "model = xgb.XGBClassifier(\n",
    "    silent=True,\n",
    "    n_jobs=-1,\n",
    "    max_depth=5,\n",
    "    learning_rate=0.05,\n",
    "    n_estimators=1000,\n",
    "    objective='binary:logistic',\n",
    "    min_child_weight=3,\n",
    "    subsample=0.7,\n",
    "    colsample_bytree=0.9,\n",
    "    reg_alpha=1,\n",
    ")\n",
    "\n",
    "# train the model\n",
    "model.fit(X_train, y_train.values.ravel())\n",
    "\n",
    "y_pred = model.predict(X_test)"
   ]
  },
  {
   "cell_type": "code",
   "execution_count": null,
   "metadata": {},
   "outputs": [],
   "source": [
    "y_pred = np.round(y_pred)\n",
    "accuracy_score(y_test, y_pred)"
   ]
  },
  {
   "cell_type": "code",
   "execution_count": null,
   "metadata": {},
   "outputs": [],
   "source": [
    "dump(model, 'xgboost')"
   ]
  }
 ],
 "metadata": {
  "kernelspec": {
   "display_name": "Python 3",
   "language": "python",
   "name": "python3"
  },
  "language_info": {
   "codemirror_mode": {
    "name": "ipython",
    "version": 3
   },
   "file_extension": ".py",
   "mimetype": "text/x-python",
   "name": "python",
   "nbconvert_exporter": "python",
   "pygments_lexer": "ipython3",
   "version": "3.6.6"
  }
 },
 "nbformat": 4,
 "nbformat_minor": 2
}
